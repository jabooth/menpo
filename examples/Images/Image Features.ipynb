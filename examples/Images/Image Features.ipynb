{
 "metadata": {
  "name": "",
  "signature": "sha256:63b92d8dcdc00d18d05b50b56eddf6d2e99e485a3efcf8dadd8700f44798eb8e"
 },
 "nbformat": 3,
 "nbformat_minor": 0,
 "worksheets": [
  {
   "cells": [
    {
     "cell_type": "heading",
     "level": 1,
     "metadata": {},
     "source": [
      "Image Features"
     ]
    },
    {
     "cell_type": "markdown",
     "metadata": {},
     "source": [
      "This notebook provides a guide on how to extract features from an image. The features that are currently implemented are:\n",
      "\n",
      "1. **HOG**\n",
      "2. **IGO**\n",
      "3. **ES**\n",
      "4. **LBP**\n",
      "\n",
      "It also shows in Section 5 that features can be combined.\n",
      "\n",
      "Firstly, let's import the needed packages"
     ]
    },
    {
     "cell_type": "code",
     "collapsed": false,
     "input": [
      "import menpo.io as pio"
     ],
     "language": "python",
     "metadata": {},
     "outputs": []
    },
    {
     "cell_type": "markdown",
     "metadata": {},
     "source": [
      "and load and plot an input image"
     ]
    },
    {
     "cell_type": "code",
     "collapsed": false,
     "input": [
      "%matplotlib inline\n",
      "breaking_bad = pio.import_builtin_asset('breakingbad.jpg')\n",
      "breaking_bad.crop_to_landmarks(boundary=20)\n",
      "breaking_bad.constrain_mask_to_landmarks()\n",
      "breaking_bad.view(masked=False)\n",
      "print breaking_bad.mask"
     ],
     "language": "python",
     "metadata": {},
     "outputs": []
    },
    {
     "cell_type": "markdown",
     "metadata": {},
     "source": [
      "The input image is annotated"
     ]
    },
    {
     "cell_type": "code",
     "collapsed": false,
     "input": [
      "breaking_bad.landmarks.view()"
     ],
     "language": "python",
     "metadata": {},
     "outputs": []
    },
    {
     "cell_type": "markdown",
     "metadata": {},
     "source": [
      "and has 3 channels (RGB)"
     ]
    },
    {
     "cell_type": "code",
     "collapsed": false,
     "input": [
      "breaking_bad.view(channels='all')"
     ],
     "language": "python",
     "metadata": {},
     "outputs": []
    },
    {
     "cell_type": "heading",
     "level": 1,
     "metadata": {},
     "source": [
      "1. HOG Features"
     ]
    },
    {
     "cell_type": "markdown",
     "metadata": {},
     "source": [
      "The HOG (Histogram of Oriented Gradients) features method clusters gradient orientations in different bins for localized sub-windows of the input image, resulting in counting occurences of the orientations. One can extract _dense_ HOGs with control over the density and _sparse_ which refer to the original HOGs formulation."
     ]
    },
    {
     "cell_type": "heading",
     "level": 3,
     "metadata": {},
     "source": [
      "1.1 Dense HOGs"
     ]
    },
    {
     "cell_type": "markdown",
     "metadata": {},
     "source": [
      "This is an example of dense HOGs with sampling step of 3 pixels horizontally and vertically. In this example, we include all the possible HOG parameters."
     ]
    },
    {
     "cell_type": "code",
     "collapsed": false,
     "input": [
      "%%time\n",
      "hog = breaking_bad.features.hog(mode='dense',\n",
      "                                algorithm='dalaltriggs',\n",
      "                                cell_size=8,\n",
      "                                block_size=2,\n",
      "                                num_bins=9,\n",
      "                                signed_gradient=True,\n",
      "                                l2_norm_clip=0.2,\n",
      "                                window_height=1, window_width=1, window_unit='blocks',\n",
      "                                window_step_vertical=3, window_step_horizontal=3, window_step_unit='pixels',\n",
      "                                padding=True,\n",
      "                                verbose=True,\n",
      "                                constrain_landmarks=True)"
     ],
     "language": "python",
     "metadata": {},
     "outputs": []
    },
    {
     "cell_type": "markdown",
     "metadata": {},
     "source": [
      "Visualize with and without landmarks and either in glyph or image mode:"
     ]
    },
    {
     "cell_type": "code",
     "collapsed": false,
     "input": [
      "hog.view(masked=False)"
     ],
     "language": "python",
     "metadata": {},
     "outputs": []
    },
    {
     "cell_type": "code",
     "collapsed": false,
     "input": [
      "hog.glyph().landmarks.view()"
     ],
     "language": "python",
     "metadata": {},
     "outputs": []
    },
    {
     "cell_type": "markdown",
     "metadata": {},
     "source": [
      "I prefer this visualization technique"
     ]
    },
    {
     "cell_type": "code",
     "collapsed": false,
     "input": [
      "hog.glyph(vectors_block_size=1,).landmarks.view(channels='all')"
     ],
     "language": "python",
     "metadata": {},
     "outputs": []
    },
    {
     "cell_type": "heading",
     "level": 3,
     "metadata": {},
     "source": [
      "1.2 Sparse HOGs"
     ]
    },
    {
     "cell_type": "markdown",
     "metadata": {},
     "source": [
      "Setting the _mode_ option to _sparse_ returns the original sparsely-sampled HOGs"
     ]
    },
    {
     "cell_type": "code",
     "collapsed": false,
     "input": [
      "%%time\n",
      "hog = breaking_bad.features.hog(mode='sparse',\n",
      "                                algorithm='zhuramanan',\n",
      "                                verbose=True)\n",
      "hog.glyph(vectors_block_size=4).view()"
     ],
     "language": "python",
     "metadata": {},
     "outputs": []
    },
    {
     "cell_type": "markdown",
     "metadata": {},
     "source": [
      "and with landmarks:"
     ]
    },
    {
     "cell_type": "code",
     "collapsed": false,
     "input": [
      "hog.landmarks.view(masked=False)"
     ],
     "language": "python",
     "metadata": {},
     "outputs": []
    },
    {
     "cell_type": "heading",
     "level": 3,
     "metadata": {},
     "source": [
      "1.3 Default Options"
     ]
    },
    {
     "cell_type": "markdown",
     "metadata": {},
     "source": [
      "The extraction of HOG features with the default options"
     ]
    },
    {
     "cell_type": "code",
     "collapsed": false,
     "input": [
      "%%time\n",
      "hog = breaking_bad.features.hog()"
     ],
     "language": "python",
     "metadata": {},
     "outputs": []
    },
    {
     "cell_type": "markdown",
     "metadata": {},
     "source": [
      "returns the most densely-sampled HOG version and is of course very slow..."
     ]
    },
    {
     "cell_type": "code",
     "collapsed": false,
     "input": [
      "print hog"
     ],
     "language": "python",
     "metadata": {},
     "outputs": []
    },
    {
     "cell_type": "markdown",
     "metadata": {},
     "source": [
      "They return a HOG image with the same width and height as the input image."
     ]
    },
    {
     "cell_type": "code",
     "collapsed": false,
     "input": [
      "hog.view(channels=range(9))"
     ],
     "language": "python",
     "metadata": {},
     "outputs": []
    },
    {
     "cell_type": "code",
     "collapsed": false,
     "input": [
      "hog.glyph(vectors_block_size=1).landmarks.view(channels='all')"
     ],
     "language": "python",
     "metadata": {},
     "outputs": []
    },
    {
     "cell_type": "heading",
     "level": 3,
     "metadata": {},
     "source": [
      "1.4 Constrain Landmarks"
     ]
    },
    {
     "cell_type": "markdown",
     "metadata": {},
     "source": [
      "In some cases, depending on the options given by the user, the landmarks may end up outside of the bounds of the features image. By enabling the flag _constrain_landmarks_, the landmarks that lie outside the borders will be constrained to the image bounds. The default value is `constrain_landmarks=True`. This applies in all features categories. For example:"
     ]
    },
    {
     "cell_type": "code",
     "collapsed": false,
     "input": [
      "# clipping disabled\n",
      "subplot(121); title('Clipping disabled')\n",
      "breaking_bad.resize([150, 150]).features.hog(mode='sparse',constrain_landmarks=False).landmarks.view(channels=1,masked=False)\n",
      "# clipping enabled\n",
      "subplot(122); title('Clipping enabled')\n",
      "breaking_bad.resize([150, 150]).features.hog(mode='sparse').landmarks.view(channels=1,masked=False)"
     ],
     "language": "python",
     "metadata": {},
     "outputs": []
    },
    {
     "cell_type": "heading",
     "level": 3,
     "metadata": {},
     "source": [
      "1.5 Windows Centres"
     ]
    },
    {
     "cell_type": "markdown",
     "metadata": {},
     "source": [
      "All feature types return a matrix with the coordinates of the windows centers on which they were computed:"
     ]
    },
    {
     "cell_type": "code",
     "collapsed": false,
     "input": [
      "hog = breaking_bad.features.hog(mode='sparse')\n",
      "print hog.pixels.shape\n",
      "print hog.window_centres.shape"
     ],
     "language": "python",
     "metadata": {},
     "outputs": []
    },
    {
     "cell_type": "heading",
     "level": 1,
     "metadata": {},
     "source": [
      "2. IGO Features"
     ]
    },
    {
     "cell_type": "markdown",
     "metadata": {},
     "source": [
      "The IGO (Image Gradient Orientations) features concatenate the _cos()_ and _sin()_ of the gradient orientation angles at each image pixel. The _cos()_ and _sin()_ can be computed either on the actual orientation angles or to both the initial and double value of the angles."
     ]
    },
    {
     "cell_type": "heading",
     "level": 3,
     "metadata": {},
     "source": [
      "2.1 Single angles"
     ]
    },
    {
     "cell_type": "markdown",
     "metadata": {},
     "source": [
      "Here is an example of such computation, which is set to be the default:"
     ]
    },
    {
     "cell_type": "code",
     "collapsed": false,
     "input": [
      "%%time\n",
      "igo_single = breaking_bad.features.igo()"
     ],
     "language": "python",
     "metadata": {},
     "outputs": []
    },
    {
     "cell_type": "code",
     "collapsed": false,
     "input": [
      "print igo_single"
     ],
     "language": "python",
     "metadata": {},
     "outputs": []
    },
    {
     "cell_type": "code",
     "collapsed": false,
     "input": [
      "igo_single.view(channels='all')"
     ],
     "language": "python",
     "metadata": {},
     "outputs": []
    },
    {
     "cell_type": "markdown",
     "metadata": {},
     "source": [
      "or"
     ]
    },
    {
     "cell_type": "code",
     "collapsed": false,
     "input": [
      "igo_single.glyph().view(channels='all')"
     ],
     "language": "python",
     "metadata": {},
     "outputs": []
    },
    {
     "cell_type": "heading",
     "level": 3,
     "metadata": {},
     "source": [
      "2.2 Double angles"
     ]
    },
    {
     "cell_type": "markdown",
     "metadata": {},
     "source": [
      "This is an example by enabling the `double_angles` flag. This is the only parameter that is related to the IGO computation."
     ]
    },
    {
     "cell_type": "code",
     "collapsed": false,
     "input": [
      "%%time\n",
      "igo = breaking_bad.features.igo(double_angles=True, verbose=True)"
     ],
     "language": "python",
     "metadata": {},
     "outputs": []
    },
    {
     "cell_type": "code",
     "collapsed": false,
     "input": [
      "igo.view(channels='all')"
     ],
     "language": "python",
     "metadata": {},
     "outputs": []
    },
    {
     "cell_type": "code",
     "collapsed": false,
     "input": [
      "igo.glyph(vectors_block_size=1).landmarks.view(channels='all')"
     ],
     "language": "python",
     "metadata": {},
     "outputs": []
    },
    {
     "cell_type": "heading",
     "level": 1,
     "metadata": {},
     "source": [
      "3. ES Features"
     ]
    },
    {
     "cell_type": "markdown",
     "metadata": {},
     "source": [
      "ES (Edge Structure) features provide a measure which captures the orientation of image structure at each pixel, together with an indication of how accurate the orientation estimate is. The accuracy belief measure penalizes the orientations in flat, noisy regions and favours the ones near strong edges. Here is an example:"
     ]
    },
    {
     "cell_type": "code",
     "collapsed": false,
     "input": [
      "%%time\n",
      "es = breaking_bad.features.es(verbose=True)"
     ],
     "language": "python",
     "metadata": {},
     "outputs": []
    },
    {
     "cell_type": "code",
     "collapsed": false,
     "input": [
      "es.view(channels=[0, 1])"
     ],
     "language": "python",
     "metadata": {},
     "outputs": []
    },
    {
     "cell_type": "code",
     "collapsed": false,
     "input": [
      "es.glyph(vectors_block_size=1).landmarks.view(channels='all')"
     ],
     "language": "python",
     "metadata": {},
     "outputs": []
    },
    {
     "cell_type": "heading",
     "level": 1,
     "metadata": {},
     "source": [
      "4. LBP Features"
     ]
    },
    {
     "cell_type": "markdown",
     "metadata": {},
     "source": [
      "The basic idea behind LBP (Local Binary Patterns) features is to encode the local structure in an image by comparing each pixel\u2019s intensity value with its neighborhood and then assign an appropriate code. The user can control their density through the `window_step_vertical` and `window_step_horizontal` parameters. At each pixel, the LBP code is computed on circle(s) with radius (radii) defined in `radius`. For each `radius` value, the user has to define the respective number of sampling points, using the parameter `samples`. The parameter `mapping_type` defines the LBP codes mapping: _uniform-2_, _rotation-invariant_ or _uniform-2 and rotation_invariant_.\n",
      "\n",
      "In this example, we extract quite dense LBP features using two _radius/samples_ combinations. The example also includes all the possible parameters."
     ]
    },
    {
     "cell_type": "code",
     "collapsed": false,
     "input": [
      "%%time\n",
      "lbp = breaking_bad.features.lbp(radius=[3, 4],\n",
      "                                samples=[10, 12],\n",
      "                                mapping_type='ri',\n",
      "                                window_step_vertical=1,\n",
      "                                window_step_horizontal=1,\n",
      "                                window_step_unit='pixels',\n",
      "                                padding=True,\n",
      "                                verbose=True,\n",
      "                                constrain_landmarks=True)"
     ],
     "language": "python",
     "metadata": {},
     "outputs": []
    },
    {
     "cell_type": "code",
     "collapsed": false,
     "input": [
      "lbp.view(channels='all')"
     ],
     "language": "python",
     "metadata": {},
     "outputs": []
    },
    {
     "cell_type": "markdown",
     "metadata": {},
     "source": [
      "Here is an example with the default values:"
     ]
    },
    {
     "cell_type": "code",
     "collapsed": false,
     "input": [
      "%%time\n",
      "lbp = breaking_bad.features.lbp()"
     ],
     "language": "python",
     "metadata": {},
     "outputs": []
    },
    {
     "cell_type": "code",
     "collapsed": false,
     "input": [
      "lbp.glyph(vectors_block_size=1).landmarks.view(channels='all')"
     ],
     "language": "python",
     "metadata": {},
     "outputs": []
    },
    {
     "cell_type": "markdown",
     "metadata": {},
     "source": [
      "Note that all implemented features hold the parameters' values given by the user:"
     ]
    },
    {
     "cell_type": "code",
     "collapsed": false,
     "input": [
      "print lbp.lbp_parameters"
     ],
     "language": "python",
     "metadata": {},
     "outputs": []
    },
    {
     "cell_type": "heading",
     "level": 3,
     "metadata": {},
     "source": [
      "4.1 LBP Codes Histogram"
     ]
    },
    {
     "cell_type": "markdown",
     "metadata": {},
     "source": [
      "LBPs are ideal to be used as image descriptors. This is achieved by binning the codes of the output image, as follows:"
     ]
    },
    {
     "cell_type": "code",
     "collapsed": false,
     "input": [
      "hist, bin_edges = breaking_bad.as_greyscale().features.lbp(radius=1, samples=8).as_histogram()"
     ],
     "language": "python",
     "metadata": {},
     "outputs": []
    },
    {
     "cell_type": "code",
     "collapsed": false,
     "input": [
      "width = 0.7 * (bin_edges[1] - bin_edges[0])\n",
      "center = (bin_edges[:-1] + bin_edges[1:]) / 2\n",
      "plt.bar(center, hist, align='center', width=width)"
     ],
     "language": "python",
     "metadata": {},
     "outputs": []
    },
    {
     "cell_type": "heading",
     "level": 1,
     "metadata": {},
     "source": [
      "5. Features Combination"
     ]
    },
    {
     "cell_type": "markdown",
     "metadata": {},
     "source": [
      "The user is able to extract features from a features image (if that makes any sense!). For example we can compute the LBP features of the IGO-based image:"
     ]
    },
    {
     "cell_type": "code",
     "collapsed": false,
     "input": [
      "%%time\n",
      "lbp_igo = breaking_bad.as_greyscale().features.igo(verbose=True).features.lbp(radius=2, samples=8, mapping_type='none', verbose=True)"
     ],
     "language": "python",
     "metadata": {},
     "outputs": []
    },
    {
     "cell_type": "code",
     "collapsed": false,
     "input": [
      "lbp_igo.landmarks.view(channels='all')"
     ],
     "language": "python",
     "metadata": {},
     "outputs": []
    }
   ],
   "metadata": {}
  }
 ]
}