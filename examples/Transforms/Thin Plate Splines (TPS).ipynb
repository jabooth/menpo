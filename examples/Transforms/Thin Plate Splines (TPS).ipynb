{
 "metadata": {
  "name": "",
  "signature": "sha256:df4dd0db37a7568f0dd61f4bb2aa8edd1771e7fd30e48ec78a1c43507fb3e385"
 },
 "nbformat": 3,
 "nbformat_minor": 0,
 "worksheets": [
  {
   "cells": [
    {
     "cell_type": "code",
     "collapsed": false,
     "input": [
      "import numpy as np\n",
      "from menpo.transform import ThinPlateSplines\n",
      "from menpo.shape import PointCloud"
     ],
     "language": "python",
     "metadata": {},
     "outputs": []
    },
    {
     "cell_type": "code",
     "collapsed": false,
     "input": [
      "# landmarks used in Principal Warps paper\n",
      "src_landmarks = np.array([[3.6929, 10.3819],\n",
      "                          [6.5827,  8.8386],\n",
      "                          [6.7756, 12.0866],\n",
      "                          [4.8189, 11.2047],\n",
      "                          [5.6969, 10.0748]])\n",
      "\n",
      "tgt_landmarks = np.array([[3.9724, 6.5354],\n",
      "                          [6.6969, 4.1181],\n",
      "                          [6.5394, 7.2362],\n",
      "                          [5.4016, 6.4528],\n",
      "                          [5.7756, 5.1142]])"
     ],
     "language": "python",
     "metadata": {},
     "outputs": []
    },
    {
     "cell_type": "code",
     "collapsed": false,
     "input": [
      "# deformed diamond\n",
      "src_landmarks = np.array([[ 0, 1.0],\n",
      "                          [-1, 0.0],\n",
      "                          [ 0,-1.0],\n",
      "                          [ 1, 0.0]])\n",
      "\n",
      "tgt_landmarks = np.array([[ 0, 0.75],\n",
      "                          [-1, 0.25],\n",
      "                          [ 0,-1.25],\n",
      "                          [ 1, 0.25]])"
     ],
     "language": "python",
     "metadata": {},
     "outputs": []
    },
    {
     "cell_type": "code",
     "collapsed": false,
     "input": [
      "src = PointCloud(src_landmarks)\n",
      "tgt = PointCloud(tgt_landmarks)\n",
      "tps = ThinPlateSplines(src, tgt)"
     ],
     "language": "python",
     "metadata": {},
     "outputs": []
    },
    {
     "cell_type": "code",
     "collapsed": false,
     "input": [
      "%matplotlib inline\n",
      "tps.view()"
     ],
     "language": "python",
     "metadata": {},
     "outputs": []
    },
    {
     "cell_type": "code",
     "collapsed": false,
     "input": [
      "np.allclose(tps.apply(src_landmarks), tgt_landmarks)"
     ],
     "language": "python",
     "metadata": {},
     "outputs": []
    }
   ],
   "metadata": {}
  }
 ]
}